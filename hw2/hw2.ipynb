{
 "cells": [
  {
   "cell_type": "code",
   "execution_count": 1,
   "metadata": {},
   "outputs": [
    {
     "name": "stdout",
     "output_type": "stream",
     "text": [
      "Shares: (1, 1632422326), (2, 2959949691), (3, 1870709429), (4, 1631701553), (5, 2242926063)\n"
     ]
    }
   ],
   "source": [
    "import random\n",
    "n = 5\n",
    "k = 3\n",
    "m = 1155127347\n",
    "p = 3267000013            # A prime number P s.t. m < P\n",
    "coeff = [random.randrange(0, p) for _ in range(k - 1)]\n",
    "coeff.append(m)\n",
    "\n",
    "shares = []\n",
    "for i in range(1, n + 1):\n",
    "    point = 0\n",
    "    for coeff_index, coeff_value in enumerate(coeff[::-1]):    # Loop through the coeff list and add values\n",
    "        point += i ** coeff_index * coeff_value                # With x powered   \n",
    "    point %= p          # We do modular operation for the result\n",
    "    shares.append((i, point))\n",
    "\n",
    "print(f'Shares: {\", \".join(str(share) for share in shares)}')"
   ]
  },
  {
   "cell_type": "code",
   "execution_count": 14,
   "metadata": {},
   "outputs": [
    {
     "name": "stdout",
     "output_type": "stream",
     "text": [
      "[6, 19, 14, 3]\n"
     ]
    }
   ],
   "source": [
    "string = \"aaaagaaanaaabaaaaaaaabzaaabaaaaaaaaaaaaaaaaaaaaa\"\n",
    "\n",
    "\n",
    "total = [0, 0, 0, 0]\n",
    "\n",
    "\n",
    "def letter_to_int(letter):\n",
    "    \n",
    "    alphabet = list('abcdefghijklmnopqrstuvwxyz')\n",
    "    for i in letter:\n",
    "        matrix.append(alphabet.index(i))\n",
    "\n",
    "for block in range(int(len(string) / 16 + 0.5)):\n",
    "    \n",
    "    matrix = []\n",
    "    letter_to_int(string[16 * block : 16 * (block + 1)])\n",
    "    temp = [0, 0, 0, 0]\n",
    "    \n",
    "    for i in range(0, 16):\n",
    "        temp[int(i / 4)] += matrix[i]\n",
    "        \n",
    "    for i in range(0, 4):\n",
    "        temp[i]  %= 26\n",
    "        total[i] += temp[i]\n",
    "        total[i] %= 26\n",
    "\n",
    "    new_matrix = []\n",
    "    new_matrix.append(matrix[4])\n",
    "    new_matrix.append(matrix[9])\n",
    "    new_matrix.append(matrix[14])\n",
    "    new_matrix.append(matrix[15])\n",
    "    new_matrix.append(matrix[8])\n",
    "    new_matrix.append(matrix[13])\n",
    "    new_matrix.append(matrix[2])\n",
    "    new_matrix.append(matrix[11])\n",
    "    new_matrix.append(matrix[12])\n",
    "    new_matrix.append(matrix[1])\n",
    "    new_matrix.append(matrix[6])\n",
    "    new_matrix.append(matrix[7])\n",
    "    new_matrix.append(matrix[0])\n",
    "    new_matrix.append(matrix[5])\n",
    "    new_matrix.append(matrix[10])\n",
    "    new_matrix.append(matrix[3])\n",
    "\n",
    "\n",
    "    temp = [0, 0, 0, 0]\n",
    "\n",
    "    for i in range(0, 16):\n",
    "        temp[int(i / 4)] += new_matrix[i]\n",
    "\n",
    "    for i in range(0, 4):\n",
    "        temp[i] %= 26\n",
    "        total[i] += temp[i]\n",
    "        total[i] %= 26\n",
    "        \n",
    "print(total)\n"
   ]
  }
 ],
 "metadata": {
  "kernelspec": {
   "display_name": "Python 3",
   "language": "python",
   "name": "python3"
  },
  "language_info": {
   "codemirror_mode": {
    "name": "ipython",
    "version": 3
   },
   "file_extension": ".py",
   "mimetype": "text/x-python",
   "name": "python",
   "nbconvert_exporter": "python",
   "pygments_lexer": "ipython3",
   "version": "3.7.6"
  }
 },
 "nbformat": 4,
 "nbformat_minor": 4
}
